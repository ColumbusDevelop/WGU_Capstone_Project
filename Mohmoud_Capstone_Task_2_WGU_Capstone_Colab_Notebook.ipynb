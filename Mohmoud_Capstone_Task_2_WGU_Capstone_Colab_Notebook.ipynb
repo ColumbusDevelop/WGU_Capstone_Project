{
  "cells": [
    {
      "cell_type": "code",
      "source": [
        "# Import necessary libraries\n",
        "import pandas as pd\n",
        "import numpy as np\n",
        "from sklearn.model_selection import train_test_split\n",
        "from sklearn.linear_model import LinearRegression\n",
        "import matplotlib.pyplot as plt\n",
        "\n",
        "# Fetch stock data from GitHub\n",
        "# Sourced from Verma, A. (2022, March 25). Google Stock Data. Kaggle. https://www.kaggle.com/datasets/varpit94/google-stock-data\n",
        "# And also sourced from Yahoo! (2024, January 8). Alphabet Inc. (GOOG) stock historical prices & data. Yahoo! Finance. https://finance.yahoo.com/quote/GOOG/history?period1=1092873600&period2=1704672000&interval=1d&filter=history&frequency=1d&includeAdjustedClose=true\n",
        "url = 'https://raw.githubusercontent.com/Hed0nium/WGU_Capstone/main/GOOGL.csv'\n",
        "stock_data = pd.read_csv(url)\n",
        "\n",
        "# Display the first few rows of the dataset\n",
        "print(\"Stock Data:\")\n",
        "print(stock_data.head())\n",
        "\n",
        "# Extract the 'Date' and 'Close' columns\n",
        "data = stock_data[['Date', 'Close']]\n",
        "\n",
        "# Save a copy of the original dates for later use\n",
        "original_dates = data['Date'].copy()\n",
        "\n",
        "# Convert 'Date' to numerical values for regression\n",
        "data = data.copy()  # Create a copy of the DataFrame\n",
        "data['Date'] = pd.to_datetime(data['Date']).astype(int) // 10**9\n",
        "\n",
        "# Split the data into features (X) and target variable (y)\n",
        "X = data[['Date']]\n",
        "y = data['Close']\n",
        "\n",
        "# Split the data into training and testing sets\n",
        "X_train, X_test, y_train, y_test = train_test_split(X, y, test_size=0.2, random_state=42)\n",
        "\n",
        "# Create a linear regression model\n",
        "model = LinearRegression()\n",
        "\n",
        "# Train the model\n",
        "model.fit(X_train, y_train)\n",
        "\n",
        "# Make predictions on the test set\n",
        "y_pred = model.predict(X_test)\n",
        "\n",
        "# Unconvert the dates for visualization\n",
        "X_test_copy = X_test.copy()\n",
        "X_test_copy['Date'] = pd.to_datetime(X_test_copy['Date'], unit='s')\n",
        "\n",
        "# Visualize the results\n",
        "plt.scatter(X_test_copy['Date'], y_test, color='black', label='Actual data')\n",
        "plt.plot(X_test_copy['Date'], y_pred, color='blue', linewidth=3, label='Linear regression')\n",
        "plt.title('Stock Price Prediction')\n",
        "plt.xlabel('Date')\n",
        "plt.ylabel('Stock Price')\n",
        "plt.legend()\n",
        "plt.show()\n",
        "\n",
        "# Evaluate the model\n",
        "from sklearn.metrics import mean_squared_error, r2_score\n",
        "\n",
        "# Convert the original dates back to the original format\n",
        "X_test_copy['Date'] = original_dates[X_test_copy.index]\n",
        "\n",
        "# Evaluate the model\n",
        "mse = mean_squared_error(y_test, y_pred)\n",
        "r2 = r2_score(y_test, y_pred)\n",
        "\n",
        "# Print the evaluation metrics\n",
        "print(f'Mean Squared Error: {mse}')\n",
        "print(f'R-squared: {r2}')"
      ],
      "metadata": {
        "id": "NRYMQ5y2pWSa"
      },
      "execution_count": null,
      "outputs": []
    },
    {
      "cell_type": "code",
      "execution_count": null,
      "metadata": {
        "id": "iEiQDqF2-_hO"
      },
      "outputs": [],
      "source": [
        "# Display a histogram for closing prices distribution\n",
        "plt.figure(figsize=(10, 6))\n",
        "plt.hist(stock_data['Close'], bins=30, color='green', alpha=0.7)\n",
        "plt.title('Closing Prices Distribution')\n",
        "plt.xlabel('Closing Price')\n",
        "plt.ylabel('Frequency')\n",
        "plt.show()"
      ]
    },
    {
      "cell_type": "code",
      "execution_count": null,
      "metadata": {
        "id": "0_MiVOCf-_7W"
      },
      "outputs": [],
      "source": [
        "# Create a scatter plot for high vs low prices\n",
        "plt.figure(figsize=(10, 6))\n",
        "plt.scatter(stock_data['High'], stock_data['Low'], color='orange', alpha=0.7)\n",
        "plt.title('Scatter Plot: High vs Low Prices')\n",
        "plt.xlabel('High Price')\n",
        "plt.ylabel('Low Price')\n",
        "plt.show()"
      ]
    },
    {
      "cell_type": "code",
      "execution_count": null,
      "metadata": {
        "id": "JxJRLGIK_ALs"
      },
      "outputs": [],
      "source": [
        "# Import necessary libraries for confusion matrix\n",
        "from sklearn.metrics import confusion_matrix\n",
        "import seaborn as sns\n",
        "\n",
        "# Convert predicted values to binary classification (e.g., increase or decrease in stock prices)\n",
        "y_pred_binary = np.where(y_pred > np.median(y_pred), 1, 0)\n",
        "y_test_binary = np.where(y_test > np.median(y_test), 1, 0)\n",
        "\n",
        "# Create a confusion matrix\n",
        "conf_matrix = confusion_matrix(y_test_binary, y_pred_binary)\n",
        "\n",
        "# Display the confusion matrix using seaborn\n",
        "plt.figure(figsize=(6, 6))\n",
        "sns.heatmap(conf_matrix, annot=True, fmt='d', cmap='Blues', cbar=False)\n",
        "plt.title('Confusion Matrix')\n",
        "plt.xlabel('Predicted Label')\n",
        "plt.ylabel('True Label')\n",
        "plt.show()"
      ]
    },
    {
      "cell_type": "code",
      "execution_count": null,
      "metadata": {
        "id": "s8vrc_NV0tn_"
      },
      "outputs": [],
      "source": [
        "# User interaction to input dates\n",
        "user_input = input(\"Enter a date (YYYY-MM-DD) to predict stock price (or type 'exit' to end): \")\n",
        "\n",
        "while user_input.lower() != 'exit':\n",
        "    try:\n",
        "        # Convert user input date to numerical value\n",
        "        user_date = pd.to_datetime(user_input).timestamp()\n",
        "\n",
        "        # Predict stock price for the user-input date\n",
        "        user_prediction = model.predict(pd.DataFrame({'Date': [user_date]}))\n",
        "\n",
        "        # Display the prediction\n",
        "        print(f\"Predicted stock price for {user_input}: ${user_prediction[0]:.2f}\")\n",
        "\n",
        "    except ValueError:\n",
        "        print(\"Invalid date format. Please use YYYY-MM-DD.\")\n",
        "\n",
        "    # Prompt the user for the next date or exit\n",
        "    user_input = input(\"Enter another date to predict stock price (or type 'exit' to end): \")\n",
        "\n",
        "print(\"Exiting the prediction tool.\")"
      ]
    }
  ],
  "metadata": {
    "colab": {
      "provenance": []
    },
    "kernelspec": {
      "display_name": "Python 3",
      "name": "python3"
    },
    "language_info": {
      "name": "python"
    }
  },
  "nbformat": 4,
  "nbformat_minor": 0
}